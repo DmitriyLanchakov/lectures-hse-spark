{
 "cells": [
  {
   "cell_type": "code",
   "execution_count": null,
   "metadata": {
    "collapsed": true
   },
   "outputs": [],
   "source": [
    "%load_ext autoreload\n",
    "%autoreload 2"
   ]
  },
  {
   "cell_type": "code",
   "execution_count": null,
   "metadata": {},
   "outputs": [],
   "source": [
    "%%file mrjoin.py\n",
    "import os\n",
    "from mrjob.job import MRJob\n",
    "\n",
    "class MRJoin(MRJob):\n",
    "    \n",
    "    SORT_VALUES = True  # performs secondary sort\n",
    "\n",
    "    def mapper(self, key, line):\n",
    "        map_input_file = os.environ['map_input_file']\n",
    "        map_input_file = map_input_file.split('/')[-1]\n",
    "        values = line.split('|')\n",
    "        # TODO: yield key and value depending on file name\n",
    "\n",
    "    def reducer(self, key, values):\n",
    "        # TODO: yield country_full_name, candidate_name"
   ]
  },
  {
   "cell_type": "code",
   "execution_count": null,
   "metadata": {},
   "outputs": [],
   "source": [
    "import mrjoin\n",
    "\n",
    "job = mrjoin.MRJoin(args=['../data/countries.dat', '../data/customers.dat'])\n",
    "with job.make_runner() as runner:\n",
    "    runner.run()\n",
    "    for line in runner.stream_output():\n",
    "        k, v = job.parse_output_line(line)\n",
    "        print(k, v)"
   ]
  }
 ],
 "metadata": {
  "kernelspec": {
   "display_name": "Python 3",
   "language": "python",
   "name": "python3"
  },
  "language_info": {
   "codemirror_mode": {
    "name": "ipython",
    "version": 3
   },
   "file_extension": ".py",
   "mimetype": "text/x-python",
   "name": "python",
   "nbconvert_exporter": "python",
   "pygments_lexer": "ipython3",
   "version": "3.5.2"
  }
 },
 "nbformat": 4,
 "nbformat_minor": 1
}
