{
 "cells": [
  {
   "cell_type": "code",
   "execution_count": 2,
   "metadata": {
    "collapsed": true
   },
   "outputs": [],
   "source": [
    "%load_ext autoreload\n",
    "%autoreload 2"
   ]
  },
  {
   "cell_type": "code",
   "execution_count": 1,
   "metadata": {},
   "outputs": [
    {
     "name": "stdout",
     "output_type": "stream",
     "text": [
      "Overwriting mrlogit.py\n"
     ]
    }
   ],
   "source": [
    "%%file mrlogit.py\n",
    "import math\n",
    "from mrjob.job import MRJob\n",
    "\n",
    "\n",
    "def parse_line(line):\n",
    "    values = [float(v) for v in line.split(',')]\n",
    "    return values[0], [1.] + values[1:]\n",
    "    \n",
    "def y(x, w):\n",
    "    d = sum(a*b for a, b in zip(x, w))\n",
    "    return 1. / (1. + math.exp(-d))  # TODO: implement logit function\n",
    "\n",
    "class MRLogit(MRJob):\n",
    "\n",
    "    def configure_options(self):\n",
    "        super(MRLogit, self).configure_options()\n",
    "        self.add_passthrough_option('--weights', type='str')\n",
    "        \n",
    "    def mapper(self, _, line):\n",
    "        w = [float(e) for e in self.options.weights.split(',')]\n",
    "        t, x = parse_line(line)\n",
    "        error = y(x, w) - t\n",
    "        for i in range(len(x)):\n",
    "            yield i, error * x[i]  # TODO: yield intermediate gradient values\n",
    "\n",
    "    def reducer(self, key, values):\n",
    "        yield key, sum(values)  # TODO: calculate final gradient values "
   ]
  },
  {
   "cell_type": "code",
   "execution_count": 4,
   "metadata": {},
   "outputs": [
    {
     "name": "stdout",
     "output_type": "stream",
     "text": [
      "0.7480323218531248\n",
      "0.569922821792644\n",
      "0.47890373646543727\n",
      "0.42001866627213547\n",
      "0.37896610093913574\n",
      "0.34887726765681976\n",
      "0.3259351580692985\n",
      "0.30787988803811284\n",
      "0.2933022994800416\n",
      "0.2812833773446794\n"
     ]
    }
   ],
   "source": [
    "import math\n",
    "import random\n",
    "from mrlogit import MRLogit\n",
    "from mrlogit import parse_line\n",
    "from mrlogit import y as predict\n",
    "\n",
    "random.seed(123)\n",
    "w = [random.random() for i in range(3)]\n",
    "a = 1e-1\n",
    "\n",
    "def loss():\n",
    "    with open('../data/logit.txt') as src:\n",
    "        res, count = 0., 0.\n",
    "        for line in src:\n",
    "            t, x = parse_line(line)\n",
    "            y = predict(x, w)\n",
    "            res += - (t * math.log(y + 1e-32) + (1. - t) * math.log(1. - y + 1e-32))\n",
    "            count += 1\n",
    "        return res / count\n",
    "\n",
    "loss_data = []\n",
    "for i in range(100):\n",
    "    _w = ','.join(map(str, w))\n",
    "    job = MRLogit(args=['../data/logit.txt', '--weights', _w])\n",
    "    with job.make_runner() as runner:\n",
    "        runner.run()\n",
    "        for line in runner.stream_output():\n",
    "            k, v = job.parse_output_line(line)\n",
    "            w[k] -= a * v / 100\n",
    "\n",
    "    loss_data.append(loss())\n",
    "    if i % 10 == 0:\n",
    "        print(loss())"
   ]
  },
  {
   "cell_type": "code",
   "execution_count": 5,
   "metadata": {
    "scrolled": false
   },
   "outputs": [
    {
     "data": {
      "text/plain": [
       "[<matplotlib.lines.Line2D at 0x10f7cfef0>,\n",
       " <matplotlib.lines.Line2D at 0x10f7d81d0>,\n",
       " <matplotlib.lines.Line2D at 0x10f7d8a20>]"
      ]
     },
     "execution_count": 5,
     "metadata": {},
     "output_type": "execute_result"
    },
    {
     "data": {
      "image/png": "[encoded data removed]",
      "text/plain": [
       "<matplotlib.figure.Figure at 0x10e62c710>"
      ]
     },
     "metadata": {},
     "output_type": "display_data"
    }
   ],
   "source": [
    "%matplotlib inline\n",
    "from matplotlib import pyplot as plt\n",
    "\n",
    "with open('../data/logit.txt') as src:\n",
    "    data = [[float(v) for v in line.split(',')] for line in src]\n",
    "\n",
    "data_0_x1 = [v[1] for v in data if v[0] == 0]\n",
    "data_0_x2 = [v[2] for v in data if v[0] == 0]\n",
    "\n",
    "data_1_x1 = [v[1] for v in data if v[0] == 1]\n",
    "data_1_x2 = [v[2] for v in data if v[0] == 1]\n",
    "\n",
    "x1 = sorted([v[1] for v in data])\n",
    "x2 = [- w[0] / w[2] - x * w[1] / w[2] for x in x1]\n",
    "\n",
    "# plot objects and hyperplane\n",
    "plt.figure(figsize=(10,7))\n",
    "plt.plot(x1, x2, '-',\n",
    "         data_0_x1, data_0_x2, 'or',\n",
    "         data_1_x1, data_1_x2, 'og')"
   ]
  },
  {
   "cell_type": "code",
   "execution_count": null,
   "metadata": {
    "collapsed": true
   },
   "outputs": [],
   "source": []
  }
 ],
 "metadata": {
  "kernelspec": {
   "display_name": "Python 3",
   "language": "python",
   "name": "python3"
  },
  "language_info": {
   "codemirror_mode": {
    "name": "ipython",
    "version": 3
   },
   "file_extension": ".py",
   "mimetype": "text/x-python",
   "name": "python",
   "nbconvert_exporter": "python",
   "pygments_lexer": "ipython3",
   "version": "3.5.2"
  }
 },
 "nbformat": 4,
 "nbformat_minor": 1
}
