{
 "cells": [
  {
   "cell_type": "code",
   "execution_count": null,
   "metadata": {
    "collapsed": true
   },
   "outputs": [],
   "source": [
    "%load_ext autoreload\n",
    "%autoreload 2"
   ]
  },
  {
   "cell_type": "code",
   "execution_count": null,
   "metadata": {
    "collapsed": false
   },
   "outputs": [],
   "source": [
    "%%file mrlogit.py\n",
    "import math\n",
    "from mrjob.job import MRJob\n",
    "\n",
    "class MRLogit(MRJob):\n",
    "\n",
    "    def configure_options(self):\n",
    "        super(MRLogit, self).configure_options()\n",
    "        self.add_passthrough_option('--weights', type='str')\n",
    "    \n",
    "    @staticmethod\n",
    "    def y(x, w):\n",
    "        # TODO: implement logit function\n",
    "    \n",
    "    def mapper(self, key, line):\n",
    "        w = map(float, self.options.weights.split(','))\n",
    "        values = map(float, line.split(','))\n",
    "        t, x = values[0], values[1:]\n",
    "        x = [1.] + x\n",
    "        # TODO: return intermediate gradient values\n",
    "\n",
    "    def reducer(self, key, values):\n",
    "        # TODO: calc final gradient value"
   ]
  },
  {
   "cell_type": "code",
   "execution_count": null,
   "metadata": {
    "collapsed": false
   },
   "outputs": [],
   "source": [
    "import math\n",
    "import random\n",
    "import mrlogit\n",
    "\n",
    "random.seed(123)\n",
    "w = [random.random() for i in range(3)]\n",
    "a = 5e-2\n",
    "\n",
    "logit = mrlogit.MRLogit.y\n",
    "\n",
    "def loss():\n",
    "    with open('../data/logit.txt') as src:\n",
    "        res, count = 0., 0.\n",
    "        for line in src:\n",
    "            values = map(float, line.split(','))\n",
    "            t, x = values[0], values[1:]\n",
    "            x = [1.] + x\n",
    "            count += 1\n",
    "            res += t * math.log(logit(x, w) + 1e-32) + (t - 1.) * math.log(1. - logit(x, w) + 1e-32)\n",
    "        return res / count\n",
    "\n",
    "for i in range(100):\n",
    "    _w = ','.join(map(str, w))\n",
    "    job = mrlogit.MRLogit(args=['../data/logit.txt', '--weights', _w])\n",
    "    with job.make_runner() as runner:\n",
    "        runner.run()\n",
    "        # TODO: update weights\n",
    "    print loss()"
   ]
  }
 ],
 "metadata": {
  "kernelspec": {
   "display_name": "Python 2",
   "language": "python",
   "name": "python2"
  },
  "language_info": {
   "codemirror_mode": {
    "name": "ipython",
    "version": 2
   },
   "file_extension": ".py",
   "mimetype": "text/x-python",
   "name": "python",
   "nbconvert_exporter": "python",
   "pygments_lexer": "ipython2",
   "version": "2.7.10"
  }
 },
 "nbformat": 4,
 "nbformat_minor": 0
}
