{
 "cells": [
  {
   "cell_type": "code",
   "execution_count": 1,
   "metadata": {
    "collapsed": true
   },
   "outputs": [],
   "source": [
    "from pyspark import SparkContext\n",
    "sc = SparkContext('local', 'ReduceByKey App')"
   ]
  },
  {
   "cell_type": "code",
   "execution_count": 4,
   "metadata": {},
   "outputs": [
    {
     "name": "stdout",
     "output_type": "stream",
     "text": [
      "194.44.224.248 - - - [02/Apr/2017:06:25:23 +0200] \"GET /track?action_name=%D0%9F%D1%80%D0%BE%D0%B2%D0%B5%D1%80%D0%B5%D0%BD%D0%BD%D0%B0%D1%8F%20%C2%AB%D0%A4%D0%BE%D1%80%D0%BC%D1%83%D0%BB%D0%B0%C2%BB%3A%20%D0%9A%D1%80%D0%B8%D1%81%20%D0%A5%D0%B5%D0%BC%D1%81%D0%B2%D0%BE%D1%80%D1%82%20%D0%B2%20%D0%BD%D0%BE%D0%B2%D0%BE%D0%BC%20%D1%84%D0%B8%D0%BB%D1%8C%D0%BC%D0%B5%20%C2%AB%D0%93%D0%BE%D0%BD%D0%BA%D0%B0%C2%BB%20-%20%D0%B6%D1%83%D1%80%D0%BD%D0%B0%D0%BB%20Rolling%20Stone&idsite=559133ba45c0640fad7095cb&rec=1&r=575326&h=7&m=25&s=23&url=http%3A%2F%2Fwww.rollingstone.ru%2Fcinema%2Fevents%2F17928.html&urlref=https%3A%2F%2Fwww.google.com.ua%2F&_id=f67a211ada28b586&_idts=1491107124&_idvc=1&_idn=1&_refts=1491107124&_viewts=1491107124&_ref=https%3A%2F%2Fwww.google.com.ua%2F&cookie=1&res=750x1334&gt_ms=635 HTTP/1.1\" 200 446 0.000 \"http://www.rollingstone.ru/cinema/events/17928.html\" \"Mozilla/5.0 (iPhone; CPU iPhone OS 9_3_2 like Mac OS X) AppleWebKit/601.1.46 (KHTML, like Gecko) Version/9.0 Mobile/13F69 Safari/601.1\" \"-\" \"-\" \"-\"\r\n"
     ]
    }
   ],
   "source": [
    "!head -n1 ../data/access.log"
   ]
  },
  {
   "cell_type": "code",
   "execution_count": 8,
   "metadata": {},
   "outputs": [
    {
     "name": "stdout",
     "output_type": "stream",
     "text": [
      "[('unknown', 0.103), ('windows', 0.508), ('linux', 0.128), ('iphone', 0.135)]\n"
     ]
    }
   ],
   "source": [
    "# create RDD from text file\n",
    "log_rdd = sc.textFile('../data/access.log').persist()\n",
    "\n",
    "def get_platform(line):\n",
    "    lower = line.lower()\n",
    "    if lower.find('iphone') != -1:\n",
    "        return 'iphone'\n",
    "    elif lower.find('windows') != -1:\n",
    "        return 'windows'\n",
    "    elif lower.find('linux') != -1:\n",
    "        return 'linux'\n",
    "    else:\n",
    "        return 'unknown'\n",
    "\n",
    "\n",
    "platform_rdd = log_rdd.map(lambda line: (get_platform(line), \n",
    "                                         float(line.split()[11])))\n",
    "\n",
    "platform_count = platform_rdd.map(lambda e: (e[0], float(e[1]))) \\\n",
    "                             .reduceByKey(lambda x, y: max(x, y)) \\\n",
    "                             .collect()\n",
    "\n",
    "print(platform_count)  # line count by platform\n",
    "\n",
    "# TODO: print max and average response time by platform\n",
    "\n",
    "# TODO: print 0.9 percentile of response time by platform"
   ]
  },
  {
   "cell_type": "code",
   "execution_count": 7,
   "metadata": {},
   "outputs": [
    {
     "data": {
      "text/plain": [
       "defaultdict(int, {'iphone': 167, 'linux': 245, 'unknown': 227, 'windows': 361})"
      ]
     },
     "execution_count": 7,
     "metadata": {},
     "output_type": "execute_result"
    }
   ],
   "source": [
    "platform_rdd.countByKey()"
   ]
  },
  {
   "cell_type": "code",
   "execution_count": 17,
   "metadata": {},
   "outputs": [
    {
     "name": "stdout",
     "output_type": "stream",
     "text": [
      "('unknown', 0.023)\n",
      "('iphone', 0.019)\n",
      "('windows', 0.019)\n",
      "('linux', 0.018)\n"
     ]
    }
   ],
   "source": [
    "for platform, count in platform_rdd.countByKey().items():\n",
    "    filtered_rdd = platform_rdd.filter(\n",
    "        lambda platform_time: platform_time[0] == platform)\n",
    "    top = filtered_rdd.top(int(count * 0.1))\n",
    "    print(top[-1])"
   ]
  },
  {
   "cell_type": "code",
   "execution_count": null,
   "metadata": {
    "collapsed": true
   },
   "outputs": [],
   "source": []
  }
 ],
 "metadata": {
  "kernelspec": {
   "display_name": "Python 3",
   "language": "python",
   "name": "python3"
  },
  "language_info": {
   "codemirror_mode": {
    "name": "ipython",
    "version": 3
   },
   "file_extension": ".py",
   "mimetype": "text/x-python",
   "name": "python",
   "nbconvert_exporter": "python",
   "pygments_lexer": "ipython3",
   "version": "3.4.3"
  }
 },
 "nbformat": 4,
 "nbformat_minor": 2
}
