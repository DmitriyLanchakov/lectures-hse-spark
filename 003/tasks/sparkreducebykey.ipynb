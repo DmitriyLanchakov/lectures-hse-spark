{
 "cells": [
  {
   "cell_type": "code",
   "execution_count": null,
   "metadata": {
    "collapsed": true
   },
   "outputs": [],
   "source": [
    "from pyspark import SparkContext\n",
    "sc = SparkContext('local', 'ReduceByKey App')"
   ]
  },
  {
   "cell_type": "code",
   "execution_count": null,
   "metadata": {},
   "outputs": [],
   "source": [
    "!head -n3 ../data/access.log"
   ]
  },
  {
   "cell_type": "code",
   "execution_count": null,
   "metadata": {},
   "outputs": [],
   "source": [
    "# create RDD from text file\n",
    "log_rdd = sc.textFile('../data/access.log').persist()\n",
    "\n",
    "def get_platform(line):\n",
    "    lower = line.lower()\n",
    "    if lower.find('iphone') != -1:\n",
    "        return 'iphone'\n",
    "    elif lower.find('windows') != -1:\n",
    "        return 'windows'\n",
    "    elif lower.find('linux') != -1:\n",
    "        return 'linux'\n",
    "    else:\n",
    "        return 'unknown'\n",
    "\n",
    "\n",
    "platform_rdd = log_rdd.map(lambda line: (get_platform(line), line))\n",
    "\n",
    "platform_count = platform_rdd.map(lambda e: (e[0], 1)) \\\n",
    "                             .reduceByKey(lambda x, y: x + y) \\\n",
    "                             .collect()\n",
    "\n",
    "print(platform_count)  # line count by platform\n",
    "\n",
    "# TODO: print max and average response time by platform\n",
    "\n",
    "# TODO: print 0.9 percentile of response time by platform"
   ]
  }
 ],
 "metadata": {
  "kernelspec": {
   "display_name": "Python 3",
   "language": "python",
   "name": "python3"
  },
  "language_info": {
   "codemirror_mode": {
    "name": "ipython",
    "version": 3
   },
   "file_extension": ".py",
   "mimetype": "text/x-python",
   "name": "python",
   "nbconvert_exporter": "python",
   "pygments_lexer": "ipython3",
   "version": "3.5.2"
  }
 },
 "nbformat": 4,
 "nbformat_minor": 2
}
