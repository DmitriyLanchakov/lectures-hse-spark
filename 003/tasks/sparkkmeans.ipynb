{
 "cells": [
  {
   "cell_type": "code",
   "execution_count": null,
   "metadata": {
    "collapsed": true
   },
   "outputs": [],
   "source": [
    "from pyspark import SparkContext\n",
    "sc = SparkContext('local', 'K-means App')"
   ]
  },
  {
   "cell_type": "code",
   "execution_count": null,
   "metadata": {},
   "outputs": [],
   "source": [
    "!head -n5 ../data/kmeans.csv"
   ]
  },
  {
   "cell_type": "code",
   "execution_count": null,
   "metadata": {},
   "outputs": [],
   "source": [
    "import numpy as np\n",
    "\n",
    "n_clusters = 3\n",
    "n_features = 2\n",
    "\n",
    "np.random.seed(123456)\n",
    "\n",
    "def parse_line(line):\n",
    "    return np.array([float(v) for v in line.split(',')])\n",
    "\n",
    "def random_cluster(features):\n",
    "    return np.random.randint(0, n_clusters), features\n",
    "\n",
    "def nearest_cluster(features, centroids):\n",
    "    distances = np.linalg.norm(centroids - features, axis=1)\n",
    "    return np.argmin(distances)\n",
    "\n",
    "# create features RDD from text file\n",
    "features_rdd = sc.textFile('../data/kmeans.csv').map(parse_line)\n",
    "\n",
    "# assign random cluster\n",
    "labels_rdd = features_rdd.map(random_cluster)\n",
    "\n",
    "for i in range(10):\n",
    "\n",
    "    # TODO: update centroids by averaging appropriate object coordinates\n",
    "    # HINT: use reduceByKey and countByKey\n",
    "    \n",
    "    # TODO: update object labels\n",
    "    # HINT: use nearest_cluster() here"
   ]
  },
  {
   "cell_type": "code",
   "execution_count": null,
   "metadata": {},
   "outputs": [],
   "source": [
    "%matplotlib inline\n",
    "\n",
    "import matplotlib.pyplot as plt\n",
    "\n",
    "def get_cluster_points(cluster_id, labels):\n",
    "    labels = [c_f[1] for c_f in labels if c_f[0] == cluster_id]\n",
    "    x1 = [f[0] for f in labels]\n",
    "    x2 = [f[1] for f in labels]\n",
    "    return x1, x2\n",
    "\n",
    "labels = labels_rdd.collect()\n",
    "\n",
    "c0_x1, c0_x2 = get_cluster_points(0, labels)\n",
    "c1_x1, c1_x2 = get_cluster_points(1, labels)\n",
    "c2_x1, c2_x2 = get_cluster_points(2, labels)\n",
    "\n",
    "plt.plot(c0_x1, c0_x2, 'ro',\n",
    "         c1_x1, c1_x2, 'go',\n",
    "         c2_x1, c2_x2, 'bo',\n",
    "         centroids[0][0], centroids[0][1], 'kx',\n",
    "         centroids[1][0], centroids[1][1], 'ks',\n",
    "         centroids[2][0], centroids[2][1], 'k^')\n",
    "\n",
    "fig = plt.gcf()\n",
    "fig.set_size_inches(18, 10)"
   ]
  }
 ],
 "metadata": {
  "kernelspec": {
   "display_name": "Python 3",
   "language": "python",
   "name": "python3"
  },
  "language_info": {
   "codemirror_mode": {
    "name": "ipython",
    "version": 3
   },
   "file_extension": ".py",
   "mimetype": "text/x-python",
   "name": "python",
   "nbconvert_exporter": "python",
   "pygments_lexer": "ipython3",
   "version": "3.5.2"
  }
 },
 "nbformat": 4,
 "nbformat_minor": 2
}
