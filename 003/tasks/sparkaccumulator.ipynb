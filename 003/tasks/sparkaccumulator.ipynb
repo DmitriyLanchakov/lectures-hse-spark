{
 "cells": [
  {
   "cell_type": "code",
   "execution_count": null,
   "metadata": {
    "collapsed": true
   },
   "outputs": [],
   "source": [
    "from pyspark import SparkContext\n",
    "sc = SparkContext('local', 'Accumulator App')"
   ]
  },
  {
   "cell_type": "code",
   "execution_count": null,
   "metadata": {},
   "outputs": [],
   "source": [
    "!head -n1 ../data/access.log"
   ]
  },
  {
   "cell_type": "code",
   "execution_count": null,
   "metadata": {},
   "outputs": [],
   "source": [
    "# create RDD from text file\n",
    "log_rdd = sc.textFile('../data/access.log').persist()\n",
    "\n",
    "# count lines with 'iphone' entry\n",
    "accum_iphone = sc.accumulator(0)\n",
    "\n",
    "log_rdd.foreach(lambda line: accum_iphone.add(line.lower().find('iphone') != -1))\n",
    "\n",
    "print('Number of lines with \\'iphone\\' phrase: %d' % accum_iphone.value)\n",
    "\n",
    "# TODO: count lines with 'windows' phrase\n",
    "# TODO: count lines with 'opera' phrase\n",
    "\n",
    "# HINT: use separate accumulator for each task\n",
    "\n",
    "# TODO: use global variables instead of accumulators and compare results"
   ]
  }
 ],
 "metadata": {
  "kernelspec": {
   "display_name": "Python 3",
   "language": "python",
   "name": "python3"
  },
  "language_info": {
   "codemirror_mode": {
    "name": "ipython",
    "version": 3
   },
   "file_extension": ".py",
   "mimetype": "text/x-python",
   "name": "python",
   "nbconvert_exporter": "python",
   "pygments_lexer": "ipython3",
   "version": "3.5.2"
  }
 },
 "nbformat": 4,
 "nbformat_minor": 2
}
