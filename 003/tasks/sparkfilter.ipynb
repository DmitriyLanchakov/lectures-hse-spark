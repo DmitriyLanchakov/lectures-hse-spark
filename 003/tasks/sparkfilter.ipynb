{
 "cells": [
  {
   "cell_type": "code",
   "execution_count": null,
   "metadata": {
    "collapsed": true,
    "deletable": true,
    "editable": true
   },
   "outputs": [],
   "source": [
    "from pyspark import SparkContext\n",
    "sc = SparkContext('local', 'Filter App')"
   ]
  },
  {
   "cell_type": "code",
   "execution_count": null,
   "metadata": {
    "collapsed": false
   },
   "outputs": [],
   "source": [
    "!head -n1 ../data/access.log"
   ]
  },
  {
   "cell_type": "code",
   "execution_count": null,
   "metadata": {
    "collapsed": false
   },
   "outputs": [],
   "source": [
    "# create RDD from text file\n",
    "log_rdd = sc.textFile('../data/access.log').persist()\n",
    "\n",
    "# count lines in file\n",
    "print('Lines in file: %d' % log_rdd.count())\n",
    "\n",
    "# count unique IPs\n",
    "unique_ip_count = log_rdd.map(lambda e: e.split()[0]) \\\n",
    "                         .distinct() \\\n",
    "                         .count()\n",
    "\n",
    "print('Unique IP: %d' % unique_ip_count)\n",
    "\n",
    "# TODO: print 10 lines with status code other than 200\n",
    "# HINT: use filter() transformation"
   ]
  }
 ],
 "metadata": {
  "kernelspec": {
   "display_name": "Python 3",
   "language": "python",
   "name": "python3"
  },
  "language_info": {
   "codemirror_mode": {
    "name": "ipython",
    "version": 3
   },
   "file_extension": ".py",
   "mimetype": "text/x-python",
   "name": "python",
   "nbconvert_exporter": "python",
   "pygments_lexer": "ipython3",
   "version": "3.5.2"
  }
 },
 "nbformat": 4,
 "nbformat_minor": 2
}
