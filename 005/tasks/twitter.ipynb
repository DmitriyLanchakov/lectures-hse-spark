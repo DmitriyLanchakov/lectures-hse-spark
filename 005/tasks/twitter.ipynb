{
 "cells": [
  {
   "cell_type": "code",
   "execution_count": null,
   "metadata": {
    "collapsed": true
   },
   "outputs": [],
   "source": [
    "# Create app and generate access tokens at https://apps.twitter.com\n",
    "\n",
    "from pyspark import SparkContext\n",
    "from pyspark.streaming import StreamingContext\n",
    "\n",
    "# creating SparkContext with 2 threads\n",
    "sc = SparkContext(master='local[2]', appName='Twitter Processing')\n",
    "\n",
    "# creating streaming context\n",
    "streaming = StreamingContext(sc, batchDuration=15)"
   ]
  },
  {
   "cell_type": "code",
   "execution_count": null,
   "metadata": {
    "collapsed": true
   },
   "outputs": [],
   "source": [
    "import json\n",
    "\n",
    "# create DStream from localhost:port\n",
    "tweet_ds = streaming.socketTextStream(hostname='localhost', port=4455) \\\n",
    "                    .map(json.loads)\n",
    "\n",
    "# count words in each 15sec stream batch\n",
    "words_ds = tweet_ds.map(lambda entry: entry['text']) \\\n",
    "                   .flatMap(lambda line: line.split())\n",
    "\n",
    "counts_ds = words_ds.map(lambda word: (word, 1)) \\\n",
    "                    .reduceByKey(lambda x, y: x + y)\n",
    "\n",
    "# output first 10 elements of each RDD\n",
    "counts_ds.pprint(num=10)\n",
    "\n",
    "# TODO: output top 10 most frequent words for each RDD\n",
    "# http://spark.apache.org/docs/latest/streaming-programming-guide.html#transformations-on-dstreams\n",
    "# http://spark.apache.org/docs/latest/programming-guide.html#transformations\n",
    "\n",
    "# TODO: output top 10 most trending hashtags for each RDD\n",
    "\n",
    "# TODO: use window to count most frequent words over last 10 RDDs\n",
    "# http://spark.apache.org/docs/latest/streaming-programming-guide.html#window-operations"
   ]
  },
  {
   "cell_type": "code",
   "execution_count": null,
   "metadata": {
    "collapsed": true
   },
   "outputs": [],
   "source": [
    "# TODO: train sentiment analysis model \n",
    "# TODO: output average sentiment for each hashtag\n",
    "# http://thinknook.com/twitter-sentiment-analysis-training-corpus-dataset-2012-09-22/\n",
    "# http://spark.apache.org/docs/latest/streaming-programming-guide.html#dataframe-and-sql-operations"
   ]
  },
  {
   "cell_type": "code",
   "execution_count": null,
   "metadata": {
    "collapsed": true,
    "scrolled": false
   },
   "outputs": [],
   "source": [
    "# start spark stream processing\n",
    "streaming.start()\n",
    "\n",
    "# run until terminated\n",
    "streaming.awaitTermination()"
   ]
  }
 ],
 "metadata": {
  "kernelspec": {
   "display_name": "Python 3",
   "language": "python",
   "name": "python3"
  },
  "language_info": {
   "codemirror_mode": {
    "name": "ipython",
    "version": 3
   },
   "file_extension": ".py",
   "mimetype": "text/x-python",
   "name": "python",
   "nbconvert_exporter": "python",
   "pygments_lexer": "ipython3",
   "version": "3.5.2"
  }
 },
 "nbformat": 4,
 "nbformat_minor": 2
}
