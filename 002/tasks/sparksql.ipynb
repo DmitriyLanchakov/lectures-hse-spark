{
 "cells": [
  {
   "cell_type": "code",
   "execution_count": null,
   "metadata": {
    "collapsed": true
   },
   "outputs": [],
   "source": [
    "from pyspark.sql import SparkSession\n",
    "spark = SparkSession \\\n",
    "            .builder \\\n",
    "            .master('local') \\\n",
    "            .appName('SQL App').getOrCreate()\n",
    "sc = spark.sparkContext"
   ]
  },
  {
   "cell_type": "code",
   "execution_count": null,
   "metadata": {
    "collapsed": false
   },
   "outputs": [],
   "source": [
    "!cat ../data/sales_header.csv"
   ]
  },
  {
   "cell_type": "code",
   "execution_count": null,
   "metadata": {
    "collapsed": false
   },
   "outputs": [],
   "source": [
    "def parse_row(line):\n",
    "    # TODO: parse row values\n",
    "    return line.split(',')\n",
    "\n",
    "sales_rdd = sc.textFile('../data/sales.csv').map(parse_row)"
   ]
  },
  {
   "cell_type": "code",
   "execution_count": null,
   "metadata": {
    "collapsed": false
   },
   "outputs": [],
   "source": [
    "with open('../data/sales_header.csv') as src:\n",
    "    sales_header = src.read().strip().split(',')\n",
    "\n",
    "sales_df = sales_rdd.toDF(sales_header)\n",
    "sales_df.registerTempTable('sales')\n",
    "\n",
    "sales_by_state_df = spark.sql(\"SELECT SUM(1) FROM sales\")\n",
    "print sales_by_state_df.rdd.collect()\n",
    "\n",
    "# TODO: print revenue by Country and State"
   ]
  }
 ],
 "metadata": {
  "kernelspec": {
   "display_name": "Python 2",
   "language": "python",
   "name": "python2"
  },
  "language_info": {
   "codemirror_mode": {
    "name": "ipython",
    "version": 2
   },
   "file_extension": ".py",
   "mimetype": "text/x-python",
   "name": "python",
   "nbconvert_exporter": "python",
   "pygments_lexer": "ipython2",
   "version": "2.7.10"
  }
 },
 "nbformat": 4,
 "nbformat_minor": 0
}
