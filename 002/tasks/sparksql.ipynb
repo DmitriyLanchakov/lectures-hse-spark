{
 "cells": [
  {
   "cell_type": "code",
   "execution_count": 1,
   "metadata": {
    "collapsed": true
   },
   "outputs": [],
   "source": [
    "from pyspark.sql import SparkSession\n",
    "spark = SparkSession \\\n",
    "            .builder \\\n",
    "            .master('spark://vmurashkin-osx2.local:7077') \\\n",
    "            .appName('SQL App').getOrCreate()\n",
    "sc = spark.sparkContext"
   ]
  },
  {
   "cell_type": "code",
   "execution_count": 2,
   "metadata": {},
   "outputs": [
    {
     "name": "stdout",
     "output_type": "stream",
     "text": [
      "Transaction_date,Product,Price,Payment_Type,Name,City,State,Country,Account_Created,Last_Login,Latitude,Longitude\r\n"
     ]
    }
   ],
   "source": [
    "!cat ../data/sales_header.csv"
   ]
  },
  {
   "cell_type": "code",
   "execution_count": 3,
   "metadata": {},
   "outputs": [
    {
     "name": "stdout",
     "output_type": "stream",
     "text": [
      "1/2/09 6:17,Product1,1200,Mastercard,carolina,Basildon,England,United Kingdom,1/2/09 6:00,1/2/09 6:08,51.5,-1.1166667\r\n",
      "1/2/09 4:53,Product1,1200,Visa,Betina,Parkville                   ,MO,United States,1/2/09 4:42,1/2/09 7:49,39.195,-94.68194\r\n",
      "1/2/09 13:08,Product1,1200,Mastercard,Federica e Andrea,Astoria                     ,OR,United States,1/1/09 16:21,1/3/09 12:32,46.18806,-123.83\r\n",
      "1/3/09 14:44,Product1,1200,Visa,Gouya,Echuca,Victoria,Australia,9/25/05 21:13,1/3/09 14:22,-36.1333333,144.75\r\n",
      "1/4/09 12:56,Product2,3600,Visa,Gerd W ,Cahaba Heights              ,AL,United States,11/15/08 15:47,1/4/09 12:45,33.52056,-86.8025\r\n",
      "1/4/09 13:19,Product1,1200,Visa,LAURENCE,Mickleton                   ,NJ,United States,9/24/08 15:19,1/4/09 13:04,39.79,-75.23806\r\n",
      "1/4/09 20:11,Product1,1200,Mastercard,Fleur,Peoria                      ,IL,United States,1/3/09 9:38,1/4/09 19:45,40.69361,-89.58889\r\n",
      "1/2/09 20:09,Product1,1200,Mastercard,adam,Martin                      ,TN,United States,1/2/09 17:43,1/4/09 20:01,36.34333,-88.85028\r\n",
      "1/4/09 13:17,Product1,1200,Mastercard,Renee Elisabeth,Tel Aviv,Tel Aviv,Israel,1/4/09 13:03,1/4/09 22:10,32.0666667,34.7666667\r\n",
      "1/4/09 14:11,Product1,1200,Visa,Aidan,Chatou,Ile-de-France,France,6/3/08 4:22,1/5/09 1:17,48.8833333,2.15\r\n"
     ]
    }
   ],
   "source": [
    "!head ../data/sales.csv"
   ]
  },
  {
   "cell_type": "code",
   "execution_count": 2,
   "metadata": {},
   "outputs": [],
   "source": [
    "def parse_row(line):\n",
    "    return line.split(',')\n",
    "\n",
    "sales_rdd = sc.textFile('../data/sales.csv').map(parse_row)"
   ]
  },
  {
   "cell_type": "code",
   "execution_count": 5,
   "metadata": {},
   "outputs": [
    {
     "name": "stdout",
     "output_type": "stream",
     "text": [
      "[['1/2/09 6:17', 'Product1', '1200', 'Mastercard', 'carolina', 'Basildon', 'England', 'United Kingdom', '1/2/09 6:00', '1/2/09 6:08', '51.5', '-1.1166667'], ['1/2/09 4:53', 'Product1', '1200', 'Visa', 'Betina', 'Parkville                   ', 'MO', 'United States', '1/2/09 4:42', '1/2/09 7:49', '39.195', '-94.68194'], ['1/2/09 13:08', 'Product1', '1200', 'Mastercard', 'Federica e Andrea', 'Astoria                     ', 'OR', 'United States', '1/1/09 16:21', '1/3/09 12:32', '46.18806', '-123.83']]\n"
     ]
    }
   ],
   "source": [
    "print(sales_rdd.take(3))"
   ]
  },
  {
   "cell_type": "code",
   "execution_count": 4,
   "metadata": {},
   "outputs": [],
   "source": [
    "with open('../data/sales_header.csv') as src:\n",
    "    sales_header = src.read().strip().split(',')\n",
    "\n",
    "sales_df = sales_rdd.toDF(sales_header)\n",
    "sales_df.registerTempTable('sales')\n",
    "\n",
    "#print(sales_total_df.rdd.collect())\n",
    "\n",
    "# TODO: print revenue by Country and State"
   ]
  },
  {
   "cell_type": "code",
   "execution_count": 5,
   "metadata": {
    "scrolled": true
   },
   "outputs": [
    {
     "name": "stdout",
     "output_type": "stream",
     "text": [
      "[Row(Country='United Kingdom', State='England', Revenue=120000.0), Row(Country='United States', State='CA', Revenue=113350.0), Row(Country='United States', State='NY', Revenue=61200.0), Row(Country='United States', State='TX', Revenue=55500.0), Row(Country='United States', State='FL', Revenue=51600.0), Row(Country='Canada', State='Ontario', Revenue=46800.0), Row(Country='United States', State='VA', Revenue=40400.0), Row(Country='Ireland', State='Dublin', Revenue=28800.0), Row(Country='Canada', State='British Columbia', Revenue=28800.0), Row(Country='United States', State='GA', Revenue=28200.0)]\n"
     ]
    }
   ],
   "source": [
    "sales_total_df = spark.sql(\n",
    "    \"SELECT Country, State, SUM(Price) AS Revenue \\\n",
    "     FROM sales \\\n",
    "     GROUP BY Country, State \\\n",
    "     ORDER BY Revenue DESC LIMIT 10\")\n",
    "\n",
    "print(sales_total_df.collect())"
   ]
  },
  {
   "cell_type": "code",
   "execution_count": null,
   "metadata": {},
   "outputs": [],
   "source": [
    "print(sales_df.rdd.take(3))"
   ]
  },
  {
   "cell_type": "code",
   "execution_count": 20,
   "metadata": {
    "scrolled": true
   },
   "outputs": [
    {
     "name": "stdout",
     "output_type": "stream",
     "text": [
      "[(('United Kingdom', 'England'), 120000.0), (('United States', 'CA'), 113350.0), (('United States', 'NY'), 61200.0), (('United States', 'TX'), 55500.0), (('United States', 'FL'), 51600.0), (('Canada', 'Ontario'), 46800.0), (('United States', 'VA'), 40400.0), (('Ireland', 'Dublin'), 28800.0), (('Canada', 'British Columbia'), 28800.0), (('United States', 'GA'), 28200.0)]\n"
     ]
    }
   ],
   "source": [
    "print(sales_df.rdd.map(lambda row: \n",
    "                       ((row.Country, row.State), \n",
    "                        float(row.Price)))\\\n",
    "                .reduceByKey(lambda a, b: a + b)\\\n",
    "                .top(10, key=lambda e: e[1]))"
   ]
  },
  {
   "cell_type": "code",
   "execution_count": null,
   "metadata": {
    "collapsed": true
   },
   "outputs": [],
   "source": []
  }
 ],
 "metadata": {
  "kernelspec": {
   "display_name": "Python 3",
   "language": "python",
   "name": "python3"
  },
  "language_info": {
   "codemirror_mode": {
    "name": "ipython",
    "version": 3
   },
   "file_extension": ".py",
   "mimetype": "text/x-python",
   "name": "python",
   "nbconvert_exporter": "python",
   "pygments_lexer": "ipython3",
   "version": "3.5.2"
  }
 },
 "nbformat": 4,
 "nbformat_minor": 1
}
