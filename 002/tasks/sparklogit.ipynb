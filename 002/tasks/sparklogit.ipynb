{
 "cells": [
  {
   "cell_type": "code",
   "execution_count": 2,
   "metadata": {
    "collapsed": true
   },
   "outputs": [],
   "source": [
    "import numpy as np\n",
    "from pyspark import SparkContext\n",
    "sc = SparkContext('local', 'Logistic Regression App')"
   ]
  },
  {
   "cell_type": "code",
   "execution_count": 4,
   "metadata": {
    "collapsed": true
   },
   "outputs": [],
   "source": [
    "def y(x, w):\n",
    "    # TODO: implement logit function\n",
    "    return 0.5\n",
    "\n",
    "def loss(data, w):\n",
    "    predicted = [(t, y(x, w)) for t, x in data]\n",
    "    return - sum(t * np.log(p) + (1. - t) * np.log(1. - p) for t, p in predicted) / len(data)"
   ]
  },
  {
   "cell_type": "code",
   "execution_count": 7,
   "metadata": {
    "collapsed": true
   },
   "outputs": [],
   "source": [
    "def parse_row(line):\n",
    "    values = list(map(float, line.split(',')))\n",
    "    return values[0], np.array([1.] + values[1:])\n",
    "\n",
    "def load_data(path):\n",
    "    with open(path) as src:\n",
    "        return [parse_row(r) for r in src]"
   ]
  },
  {
   "cell_type": "code",
   "execution_count": 8,
   "metadata": {},
   "outputs": [],
   "source": [
    "train_data = load_data('../data/logit_train.csv')\n",
    "test_data = load_data('../data/logit_test.csv')"
   ]
  },
  {
   "cell_type": "code",
   "execution_count": null,
   "metadata": {
    "collapsed": true
   },
   "outputs": [],
   "source": [
    "train_data_rdd = sc.parallelize(train_data).persist()"
   ]
  },
  {
   "cell_type": "code",
   "execution_count": 9,
   "metadata": {},
   "outputs": [
    {
     "name": "stdout",
     "output_type": "stream",
     "text": [
      "0 0.69314718056 0.69314718056\n"
     ]
    }
   ],
   "source": [
    "a = 0.1  # learning rate\n",
    "b = 5e-5 # L2 coefficient, suggested values: 5e-2, 5e-4, 5e-6\n",
    "w = np.random.rand(3) # model weights\n",
    "\n",
    "for i in range(10):\n",
    "    pass\n",
    "    # TODO: calc gradient using map transformation and reduce action on train_data_rdd\n",
    "    # TODO: update weights appling L2 regularization\n",
    "    if i % 25 == 0:\n",
    "        print(i, loss(train_data, w), loss(test_data, w))\n",
    "        \n",
    "# TODO: plot train & test loss values for 1000 iterations for each b from range: [5e-2, 5e-4, 5e-6]"
   ]
  },
  {
   "cell_type": "code",
   "execution_count": 10,
   "metadata": {},
   "outputs": [
    {
     "data": {
      "text/plain": [
       "[<matplotlib.lines.Line2D at 0x110f4cdd8>,\n",
       " <matplotlib.lines.Line2D at 0x110f4cf98>,\n",
       " <matplotlib.lines.Line2D at 0x110f59908>]"
      ]
     },
     "execution_count": 10,
     "metadata": {},
     "output_type": "execute_result"
    },
    {
     "data": {
      "image/png": "[encoded data removed]",
      "text/plain": [
       "<matplotlib.figure.Figure at 0x11047ecc0>"
      ]
     },
     "metadata": {},
     "output_type": "display_data"
    }
   ],
   "source": [
    "%matplotlib inline\n",
    "from matplotlib import pyplot as plt\n",
    "\n",
    "data_0_x1 = [v[1] for t, v in train_data if t == 0]\n",
    "data_0_x2 = [v[2] for t, v in train_data if t == 0]\n",
    "\n",
    "data_1_x1 = [v[1] for t, v in train_data if t == 1]\n",
    "data_1_x2 = [v[2] for t, v in train_data if t == 1]\n",
    "\n",
    "x1 = sorted([v[1] for t, v in train_data])\n",
    "x2 = [- w[0] / w[2] - x * w[1] / w[2] for x in x1]\n",
    "\n",
    "# plot objects and hyperplane\n",
    "plt.figure(figsize=(10,7))\n",
    "plt.plot(x1, x2, '-',\n",
    "         data_0_x1, data_0_x2, 'or',\n",
    "         data_1_x1, data_1_x2, 'og')"
   ]
  },
  {
   "cell_type": "code",
   "execution_count": null,
   "metadata": {
    "collapsed": true
   },
   "outputs": [],
   "source": []
  }
 ],
 "metadata": {
  "kernelspec": {
   "display_name": "Python 3",
   "language": "python",
   "name": "python3"
  },
  "language_info": {
   "codemirror_mode": {
    "name": "ipython",
    "version": 3
   },
   "file_extension": ".py",
   "mimetype": "text/x-python",
   "name": "python",
   "nbconvert_exporter": "python",
   "pygments_lexer": "ipython3",
   "version": "3.5.2"
  }
 },
 "nbformat": 4,
 "nbformat_minor": 1
}
