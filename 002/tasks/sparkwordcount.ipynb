{
 "cells": [
  {
   "cell_type": "code",
   "execution_count": 1,
   "metadata": {},
   "outputs": [],
   "source": [
    "from pyspark import SparkContext\n",
    "# creating spark context\n",
    "sc = SparkContext('spark://vmurashkin-osx2.local:7077', 'WordCount App')"
   ]
  },
  {
   "cell_type": "code",
   "execution_count": 13,
   "metadata": {},
   "outputs": [
    {
     "name": "stdout",
     "output_type": "stream",
     "text": [
      "[('line_count', 17), ('char_count', 4566), ('word_count', 798)]\n"
     ]
    }
   ],
   "source": [
    "# loading text from file\n",
    "with open('../data/idiot.txt') as src:\n",
    "    text = src.readlines()\n",
    "\n",
    "# making RDD from text lines\n",
    "text_rdd = sc.parallelize(text)\n",
    "\n",
    "def process(line):\n",
    "    word_count = len(line.split())\n",
    "    char_count = len(line)\n",
    "    line_count = 1\n",
    "    return [('word_count', word_count),\n",
    "            ('char_count', char_count),\n",
    "            ('line_count', line_count)]\n",
    "\n",
    "print(text_rdd.flatMap(process)\\\n",
    "      .reduceByKey(lambda a, b: a + b)\\\n",
    "      .collect())"
   ]
  },
  {
   "cell_type": "code",
   "execution_count": 18,
   "metadata": {},
   "outputs": [
    {
     "data": {
      "text/plain": [
       "['Beauty will save the world.\\n']"
      ]
     },
     "execution_count": 18,
     "metadata": {},
     "output_type": "execute_result"
    }
   ],
   "source": [
    "text_rdd.top(1, key=lambda line: -len(line.split()))"
   ]
  },
  {
   "cell_type": "code",
   "execution_count": null,
   "metadata": {
    "collapsed": true
   },
   "outputs": [],
   "source": []
  }
 ],
 "metadata": {
  "kernelspec": {
   "display_name": "Python 3",
   "language": "python",
   "name": "python3"
  },
  "language_info": {
   "codemirror_mode": {
    "name": "ipython",
    "version": 3
   },
   "file_extension": ".py",
   "mimetype": "text/x-python",
   "name": "python",
   "nbconvert_exporter": "python",
   "pygments_lexer": "ipython3",
   "version": "3.5.2"
  }
 },
 "nbformat": 4,
 "nbformat_minor": 1
}
