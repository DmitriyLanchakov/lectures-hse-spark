{
 "cells": [
  {
   "cell_type": "code",
   "execution_count": null,
   "metadata": {
    "collapsed": false
   },
   "outputs": [],
   "source": [
    "from pyspark import SparkContext\n",
    "# creating spark context\n",
    "sc = SparkContext('local', 'WordCount App')"
   ]
  },
  {
   "cell_type": "code",
   "execution_count": null,
   "metadata": {
    "collapsed": false
   },
   "outputs": [],
   "source": [
    "# loading text from file\n",
    "with open('../data/idiot.txt') as src:\n",
    "    text = src.readlines()\n",
    "\n",
    "# making RDD from text lines\n",
    "text_rdd = sc.parallelize(text)\n",
    "\n",
    "# counting word entries and storing result as RDD\n",
    "wc_rdd = text_rdd.flatMap(lambda line: line.split()) \\\n",
    "                    .map(lambda word: (word, 1)) \\\n",
    "                    .reduceByKey(lambda x, y: x + y)\n",
    "\n",
    "# output 10 most frequent words\n",
    "print wc_rdd.map(lambda e: e[::-1]).top(10)        \n",
    "        \n",
    "# # getting result back to client        \n",
    "# wc = wc_rdd.collect()\n",
    "# \n",
    "# # output 10 most frequent words\n",
    "# print sorted(wc, key=lambda e: -e[-1])[:10]"
   ]
  }
 ],
 "metadata": {
  "kernelspec": {
   "display_name": "Python 2",
   "language": "python",
   "name": "python2"
  },
  "language_info": {
   "codemirror_mode": {
    "name": "ipython",
    "version": 2
   },
   "file_extension": ".py",
   "mimetype": "text/x-python",
   "name": "python",
   "nbconvert_exporter": "python",
   "pygments_lexer": "ipython2",
   "version": "2.7.10"
  }
 },
 "nbformat": 4,
 "nbformat_minor": 0
}
